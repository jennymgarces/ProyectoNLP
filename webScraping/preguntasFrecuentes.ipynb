{
 "cells": [
  {
   "cell_type": "code",
   "execution_count": 45,
   "metadata": {},
   "outputs": [],
   "source": [
    "import requests\n",
    "from bs4 import BeautifulSoup as BS\n",
    "import json\n",
    "data = []\n"
   ]
  },
  {
   "cell_type": "code",
   "execution_count": 51,
   "metadata": {},
   "outputs": [],
   "source": [
    "url='https://www.upb.edu.co/es/central-preguntas-frecuentes?page=1&ciudad=Bucaramanga&max=300'\n",
    "\n",
    "response = requests.get(url)\n",
    "soup = BS(response.content, 'html.parser')\n",
    "\n",
    "blocks = soup.findAll('li', attrs={'class':'item'})\n",
    "count = 0\n",
    "for block in blocks:\n",
    "    question = \"\"\n",
    "    answer = \"\"\n",
    "    \n",
    "    count = count + 1\n",
    "    #print(\"------------------\")\n",
    "    preguntas = block.findChildren(\"h4\" , recursive=True)\n",
    "    respuestas = block.findChildren(\"div\" , recursive=True, attrs={'class':'inf'})\n",
    "    for pregunta in preguntas:\n",
    "        #print(\"Pregunta\")\n",
    "        question = question + pregunta.text\n",
    "        #print(pregunta.text)\n",
    "    for respuesta in respuestas:\n",
    "        #print(\"Respuesta\")\n",
    "        answer = answer + respuesta.text\n",
    "        #print(respuesta.text)\n",
    "    data.append({'question':question,'answer':answer})\n",
    "#print(count)\n",
    "\n",
    "\n"
   ]
  },
  {
   "cell_type": "code",
   "execution_count": 52,
   "metadata": {},
   "outputs": [],
   "source": [
    "#encoded\n",
    "data_string = json.dumps(data)\n",
    "\n",
    "#Decoded\n",
    "decoded = json.loads(data_string)"
   ]
  },
  {
   "cell_type": "code",
   "execution_count": 55,
   "metadata": {},
   "outputs": [],
   "source": [
    "with open('data.json', 'w') as file:\n",
    "    json.dump(decoded, file, indent=4)"
   ]
  }
 ],
 "metadata": {
  "kernelspec": {
   "display_name": "Python 3",
   "language": "python",
   "name": "python3"
  },
  "language_info": {
   "codemirror_mode": {
    "name": "ipython",
    "version": 3
   },
   "file_extension": ".py",
   "mimetype": "text/x-python",
   "name": "python",
   "nbconvert_exporter": "python",
   "pygments_lexer": "ipython3",
   "version": "3.7.6"
  }
 },
 "nbformat": 4,
 "nbformat_minor": 4
}
